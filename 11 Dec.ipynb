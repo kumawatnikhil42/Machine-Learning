{
 "cells": [
  {
   "cell_type": "code",
   "execution_count": 13,
   "id": "095db9e3-9120-4910-8470-eb4a56178c4c",
   "metadata": {},
   "outputs": [],
   "source": [
    "#numpy==> numerical python ==> open source library==> for scientific calculation\n",
    "#list ==> mutable,computation power easy\n",
    "#difference between list vs numpy?\n",
    "#(1) memory usage ==> list(high),numpy(low)\n",
    "#(2) time consuming==> list(high),numpy(low)\n",
    "#numpy==> array format"
   ]
  },
  {
   "cell_type": "code",
   "execution_count": 5,
   "id": "d7e737a5-c47b-451b-94a3-33c74a15a12f",
   "metadata": {},
   "outputs": [
    {
     "data": {
      "text/plain": [
       "array([1, 2, 3])"
      ]
     },
     "execution_count": 5,
     "metadata": {},
     "output_type": "execute_result"
    }
   ],
   "source": [
    "import numpy as np \n",
    "a= [1,2,3] \n",
    "b = np.array(a) \n",
    "b"
   ]
  },
  {
   "cell_type": "code",
   "execution_count": 20,
   "id": "3f38f213-ed0a-42b2-9740-ae6511551243",
   "metadata": {},
   "outputs": [
    {
     "name": "stdin",
     "output_type": "stream",
     "text": [
      "Enter the number: 3\n",
      " 1\n",
      " 2\n",
      " 3\n"
     ]
    },
    {
     "data": {
      "text/plain": [
       "array([1, 2, 3])"
      ]
     },
     "execution_count": 20,
     "metadata": {},
     "output_type": "execute_result"
    }
   ],
   "source": [
    "a=[]\n",
    "size=int(input(\"Enter the number:\"))\n",
    "for i in range(size):\n",
    "    val=int(input())\n",
    "    a.append(val)\n",
    "b=np.array(a)\n",
    "b\n"
   ]
  },
  {
   "cell_type": "code",
   "execution_count": 25,
   "id": "0f5e30ac-86b7-4a34-8c59-d3337269b3a3",
   "metadata": {},
   "outputs": [
    {
     "name": "stdout",
     "output_type": "stream",
     "text": [
      "total dimension: 1\n",
      "total shape: (3,)\n",
      "total elements 3\n"
     ]
    }
   ],
   "source": [
    "a=[1,2,3]\n",
    "b=np.array(a)\n",
    "b\n",
    "print(\"total dimension:\", b.ndim)#no. of dimensions\n",
    "print(\"total shape:\", b.shape)# no. of rows and no.columns\n",
    "print(\"total elements\", b.size)#no.of rows * no. of columns"
   ]
  },
  {
   "cell_type": "code",
   "execution_count": 26,
   "id": "2ba090be-c675-446e-a3f8-64024c48d166",
   "metadata": {},
   "outputs": [
    {
     "name": "stdout",
     "output_type": "stream",
     "text": [
      "total dimension: 2\n",
      "total shape: (3, 3)\n",
      "total elements 9\n"
     ]
    }
   ],
   "source": [
    "a=[[1,2,3],[4,5,6],[7,8,9]]\n",
    "b=np.array(a)\n",
    "b\n",
    "print(\"total dimension:\", b.ndim)\n",
    "print(\"total shape:\", b.shape)\n",
    "print(\"total elements\", b.size)"
   ]
  },
  {
   "cell_type": "code",
   "execution_count": 28,
   "id": "fbb3685c-b8e0-435b-ab8d-11cdf6561945",
   "metadata": {},
   "outputs": [
    {
     "data": {
      "text/plain": [
       "array([0., 0., 0., 0.])"
      ]
     },
     "execution_count": 28,
     "metadata": {},
     "output_type": "execute_result"
    }
   ],
   "source": [
    "#(1)zeros()==>  it will create all values into 0\n",
    "a=np.zeros(4)\n",
    "a"
   ]
  },
  {
   "cell_type": "code",
   "execution_count": 32,
   "id": "3b7dd9ba-6cd6-432b-a181-8790c7cd96de",
   "metadata": {},
   "outputs": [
    {
     "name": "stdout",
     "output_type": "stream",
     "text": [
      "[[0. 0. 0. 0.]\n",
      " [0. 0. 0. 0.]\n",
      " [0. 0. 0. 0.]]\n",
      "total dimension: 2\n",
      "total shape: (3, 4)\n",
      "total elements 12\n"
     ]
    }
   ],
   "source": [
    "a=np.zeros((3,4))\n",
    "print(a)\n",
    "print(\"total dimension:\", a.ndim)\n",
    "print(\"total shape:\", a.shape)\n",
    "print(\"total elements\", a.size)"
   ]
  },
  {
   "cell_type": "code",
   "execution_count": 33,
   "id": "ed9a7147-cfc7-4c80-91a9-58ad7e39f2c7",
   "metadata": {},
   "outputs": [
    {
     "data": {
      "text/plain": [
       "array([1., 1., 1., 1.])"
      ]
     },
     "execution_count": 33,
     "metadata": {},
     "output_type": "execute_result"
    }
   ],
   "source": [
    "#(2). ones=> it will create an array in whichall elements are one.\n",
    "a=np.ones(4)\n",
    "a"
   ]
  },
  {
   "cell_type": "code",
   "execution_count": 35,
   "id": "523e3c9a-92a8-499d-9ec1-49e902844321",
   "metadata": {},
   "outputs": [
    {
     "name": "stdout",
     "output_type": "stream",
     "text": [
      "[[1. 1. 1. 1.]\n",
      " [1. 1. 1. 1.]\n",
      " [1. 1. 1. 1.]]\n",
      "total dimension: 2\n",
      "total shape: (3, 4)\n",
      "total elements 12\n"
     ]
    }
   ],
   "source": [
    "a=np.ones((3,4))\n",
    "print(a)\n",
    "print(\"total dimension:\", a.ndim)\n",
    "print(\"total shape:\", a.shape)\n",
    "print(\"total elements\", a.size)"
   ]
  },
  {
   "cell_type": "code",
   "execution_count": 38,
   "id": "2baa4d65-41e1-424d-8c79-4ac76fc39af0",
   "metadata": {},
   "outputs": [
    {
     "data": {
      "text/plain": [
       "array([[1., 0., 0., 0.],\n",
       "       [0., 1., 0., 0.],\n",
       "       [0., 0., 1., 0.]])"
      ]
     },
     "execution_count": 38,
     "metadata": {},
     "output_type": "execute_result"
    }
   ],
   "source": [
    "#(3). eye()==> diagonal position elements=1 ,rest all are 0.\n",
    "a=np.eye(3,4)\n",
    "a"
   ]
  },
  {
   "cell_type": "code",
   "execution_count": 6,
   "id": "ba600350-4549-4d91-ab54-190bbdd0b59b",
   "metadata": {},
   "outputs": [
    {
     "data": {
      "text/plain": [
       "array([[1., 0., 0., 0.],\n",
       "       [0., 1., 0., 0.],\n",
       "       [0., 0., 1., 0.],\n",
       "       [0., 0., 0., 1.]])"
      ]
     },
     "execution_count": 6,
     "metadata": {},
     "output_type": "execute_result"
    }
   ],
   "source": [
    "a=np.eye(4,4)\n",
    "a"
   ]
  },
  {
   "cell_type": "code",
   "execution_count": 15,
   "id": "409eb209-c088-4698-9f40-359c447b6da1",
   "metadata": {},
   "outputs": [
    {
     "data": {
      "text/plain": [
       "array([[1, 0, 0],\n",
       "       [0, 2, 0],\n",
       "       [0, 0, 3]])"
      ]
     },
     "execution_count": 15,
     "metadata": {},
     "output_type": "execute_result"
    }
   ],
   "source": [
    "#(4). diag()==> diagonal position==>custom array,rest all are 0\n",
    "a= [1,2,3] \n",
    "b = np.diag(a)\n",
    "b"
   ]
  },
  {
   "cell_type": "code",
   "execution_count": 43,
   "id": "2a406cf1-515e-4f9d-a42b-4e4f77b5bec8",
   "metadata": {},
   "outputs": [
    {
     "data": {
      "text/plain": [
       "array([18, 19,  5,  4])"
      ]
     },
     "execution_count": 43,
     "metadata": {},
     "output_type": "execute_result"
    }
   ],
   "source": [
    "#(5). random module\n",
    "#(a). randint()==> provide int number in agiven a range.\n",
    "a= np.random.randint(1,20,4)\n",
    "a"
   ]
  },
  {
   "cell_type": "code",
   "execution_count": 42,
   "id": "800c0037-cf59-43f7-93d6-993d1d1de332",
   "metadata": {},
   "outputs": [
    {
     "name": "stdin",
     "output_type": "stream",
     "text": [
      "min. : 1\n",
      "max. : 50\n",
      "total : 5\n"
     ]
    },
    {
     "data": {
      "text/plain": [
       "array([13, 20, 16, 33, 49])"
      ]
     },
     "execution_count": 42,
     "metadata": {},
     "output_type": "execute_result"
    }
   ],
   "source": [
    "p=int(input(\"min. :\"))\n",
    "q=int(input(\"max. :\"))\n",
    "r=int(input(\"total :\"))\n",
    "a= np.random.randint(p,q,r)\n",
    "a"
   ]
  },
  {
   "cell_type": "code",
   "execution_count": 44,
   "id": "44b8bf8c-77a6-4360-9916-edcf316d48bf",
   "metadata": {},
   "outputs": [
    {
     "data": {
      "text/plain": [
       "array([0.75230732, 0.11303489, 0.55258231, 0.03365855, 0.66819477])"
      ]
     },
     "execution_count": 44,
     "metadata": {},
     "output_type": "execute_result"
    }
   ],
   "source": [
    "#(b) rand()==>(0 to 1)\n",
    "a=np.random.rand(5)\n",
    "a"
   ]
  },
  {
   "cell_type": "code",
   "execution_count": 45,
   "id": "914369ec-1403-498f-b506-5beb19f4f61e",
   "metadata": {},
   "outputs": [
    {
     "data": {
      "text/plain": [
       "array([[0.01510687, 0.31033243, 0.05635223],\n",
       "       [0.12411939, 0.23990879, 0.13282263]])"
      ]
     },
     "execution_count": 45,
     "metadata": {},
     "output_type": "execute_result"
    }
   ],
   "source": [
    "a=np.random.rand(2,3)\n",
    "a"
   ]
  },
  {
   "cell_type": "code",
   "execution_count": 46,
   "id": "63608654-7deb-4cd5-b324-f21eedd2c17a",
   "metadata": {},
   "outputs": [
    {
     "data": {
      "text/plain": [
       "array([-0.85059548, -2.37485258, -1.57904802])"
      ]
     },
     "execution_count": 46,
     "metadata": {},
     "output_type": "execute_result"
    }
   ],
   "source": [
    "#(c).randn()==>limit(-7 to 7)\n",
    "a=np.random.randn(3)\n",
    "a"
   ]
  },
  {
   "cell_type": "code",
   "execution_count": 47,
   "id": "db3ea996-1280-4228-a8b0-982e5e9ae865",
   "metadata": {},
   "outputs": [
    {
     "data": {
      "text/plain": [
       "array([[ 0.26683434, -0.23082786,  1.17980182],\n",
       "       [ 0.08416606,  0.775681  , -1.17562055]])"
      ]
     },
     "execution_count": 47,
     "metadata": {},
     "output_type": "execute_result"
    }
   ],
   "source": [
    "a=np.random.randn(2,3)\n",
    "a"
   ]
  },
  {
   "cell_type": "code",
   "execution_count": 49,
   "id": "0c0835f2-85df-46b7-a493-1fbc2fc94c3a",
   "metadata": {},
   "outputs": [
    {
     "data": {
      "text/plain": [
       "array([6, 5, 1])"
      ]
     },
     "execution_count": 49,
     "metadata": {},
     "output_type": "execute_result"
    }
   ],
   "source": [
    "#(6). seed()==> it will fix our numbers.\n",
    "np.random.seed(56)\n",
    "a=np.random.randint(1,10,3)\n",
    "a"
   ]
  }
 ],
 "metadata": {
  "kernelspec": {
   "display_name": "Python 3 (ipykernel)",
   "language": "python",
   "name": "python3"
  },
  "language_info": {
   "codemirror_mode": {
    "name": "ipython",
    "version": 3
   },
   "file_extension": ".py",
   "mimetype": "text/x-python",
   "name": "python",
   "nbconvert_exporter": "python",
   "pygments_lexer": "ipython3",
   "version": "3.10.11"
  }
 },
 "nbformat": 4,
 "nbformat_minor": 5
}
